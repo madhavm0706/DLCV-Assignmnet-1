{
 "cells": [
  {
   "cell_type": "code",
   "execution_count": 72,
   "id": "c48a4c8f",
   "metadata": {},
   "outputs": [],
   "source": [
    "#Import All the dependencies for our project\n",
    "import numpy as np\n",
    "import pickle\n",
    "\n",
    "\n",
    "def one_hot_encode(Y_data, classes):\n",
    "  \n",
    "    labels = np.zeros((len(Y_data), classes))\n",
    "    for i, x in enumerate(Y_data):\n",
    "        labels[i][x] = 1\n",
    "    \n",
    "    return labels\n",
    "\n",
    "#Load all the data that we have made in our previous steps\n",
    "with open('feature_vector_train.pkl', 'rb') as file:\n",
    "    X = pickle.load(file)\n",
    "\n",
    "with open('labels_train.pkl', 'rb') as file:\n",
    "    Y_data = pickle.load(file)\n",
    "    Y = one_hot_encode(Y_data,10)\n",
    "\n",
    "with open('labels_test.pkl', 'rb') as file:\n",
    "    Y_test_data = pickle.load(file)\n",
    "    Y_test = one_hot_encode(Y_test_data,10)\n",
    "\n",
    "with open('feature_vector_test.pkl', 'rb') as file:\n",
    "    X_test = pickle.load(file)\n",
    "\n",
    "\n",
    "#Initialize lists to store data at the time of training and testing on Original data\n",
    "TrainingLoss_O = []\n",
    "TrainingAccuracy_O = []\n",
    "TestLoss_O= []\n",
    "TestAccuracy_O = []\n",
    "\n",
    "#Initialize lists to store data at the time of training and testing on Augmented data\n",
    "TrainingLoss_A = []\n",
    "TrainingAccuracy_A = []\n",
    "TestLoss_A= []\n",
    "TestAccuracy_A = []\n"
   ]
  },
  {
   "cell_type": "code",
   "execution_count": 73,
   "id": "c0e05bef",
   "metadata": {},
   "outputs": [],
   "source": [
    "#Activation function in our MLP\n",
    "\n",
    "#Relu function used as an activation function after Hidden Layer 1 and Hidden Layer 2\n",
    "def relu(z):\n",
    "    return np.maximum(0,z)\n",
    "\n",
    "\n",
    "#Activation function used after Output Layer \n",
    "def softmax(z):\n",
    "    exp_z = np.exp(z)\n",
    "    return exp_z / np.sum(exp_z, axis = 1).reshape(z.shape[0], 1)\n",
    "\n",
    "\n",
    "# Loss function\n",
    "def lossFunction(y_label, y_pred):    \n",
    "    return -np.sum(y_pred * np.log(y_label)) / y_pred.shape[0]\n",
    " \n",
    "    \n",
    "#Accuracy functions    \n",
    "def accuracy(y_label, y_pred):\n",
    "    return (np.argmax(y_pred, axis = 1) == np.argmax(y_label, axis=1)).mean()\n"
   ]
  },
  {
   "cell_type": "code",
   "execution_count": 76,
   "id": "b03651f6",
   "metadata": {},
   "outputs": [],
   "source": [
    "#Initialize weights and bias for our MLP\n",
    "\n",
    "#weights and bias for Hidden Layer 1\n",
    "\n",
    "wh1 = (np.random.random((512,64)))/1e3\n",
    "bh1 = np.zeros((1,64))\n",
    "\n",
    "#weights and bias for Hidden Layer 1\n",
    "wh2 = (np.random.random((64,64)))/1e3\n",
    "bh2 = np.zeros((1,64))\n",
    "\n",
    "#weights and bias for Hidden Layer 1\n",
    "wo = (np.random.random((64,10)))/1e3\n",
    "bo = np.zeros((1,10))\n",
    "\n",
    "#Learning Rate of our MLP\n",
    "lr = 0.01\n",
    "epochs = 40\n"
   ]
  },
  {
   "cell_type": "code",
   "execution_count": 77,
   "id": "cd655502",
   "metadata": {},
   "outputs": [],
   "source": [
    "#Make batches of our data at the time of training\n",
    "\n",
    "def makeBatch(X_vector,Y_label,size=64):\n",
    "      \n",
    "    X_batch = []\n",
    "    Y_batch = []\n",
    "    \n",
    "    batches = int(np.ceil(len(X_vector) / size))\n",
    "    \n",
    "    for i in range(batches-1):\n",
    "        X_batch.append(X_vector[i*size:(i+1)*size])\n",
    "        Y_batch.append(Y_label[i*size:(i+1)*size])\n",
    "        \n",
    "    X_batch.append(X_vector[(i+1)*size:])\n",
    "    Y_batch.append(Y_label[(i+1)*size:])\n",
    "    \n",
    "    return X_batch, Y_batch \n",
    "\n",
    "#Forward Propogation\n",
    "\n",
    "def forward_propogation(X_vector):\n",
    "    \n",
    "    InputHidden1 = np.dot(X_vector,wh1)+bh1\n",
    "    OutputHidden1 = relu(InputHidden1)\n",
    "\n",
    "    InputHidden2 = np.dot(OutputHidden1,wh2)+bh2\n",
    "    OutputHidden2 = relu(InputHidden2)\n",
    "\n",
    "    InputOfOutput = np.dot(OutputHidden2,wo)+bo\n",
    "    OutputOfOutputLayer = softmax(InputOfOutput)\n",
    "    \n",
    "    return OutputHidden1,OutputHidden2,OutputOfOutputLayer\n",
    "    \n",
    "#Backward Propogation and updation of weights\n",
    "\n",
    "def backward_propogation(OutputHidden1,OutputHidden2,OutputOfOutputLayer,X_vector,Y_label):\n",
    "    \n",
    "    \n",
    "    numOfSample = X_vector.shape[0] \n",
    "    global wo,bo,wh2,bh2,wh1,bh1\n",
    "    \n",
    "    #back propogation of outputs weights\n",
    "\n",
    "    first_term = OutputOfOutputLayer - Y_label\n",
    "    changes_output = np.dot(OutputHidden2.T, first_term) / numOfSample\n",
    "    changes_output_bias = np.sum(first_term, axis=0) / numOfSample\n",
    "\n",
    "    #back propogation of Hidden Layer 2 \n",
    "    \n",
    "    #gradient at level 2\n",
    "    OutputHidden2[OutputHidden2>0] = 1                                \n",
    "    g1 = OutputHidden2\n",
    "\n",
    "    first_term_h2 = np.dot(first_term, wo.T) * g1                    \n",
    "    changes_hidden_layer_2 = np.dot(OutputHidden1.T, first_term_h2) / numOfSample       \n",
    "    changes_hidden_layer_2_bias = np.sum(first_term_h2, axis = 0) / numOfSample       \n",
    "\n",
    "    #back propogation of Hidden Layer 1 \n",
    "    \n",
    "    #gradient at level 1\n",
    "    OutputHidden1[OutputHidden1>0] = 1                                \n",
    "    g0 = OutputHidden1\n",
    "\n",
    "    first_term_h1 = np.dot(first_term_h2, wh2.T) * g0                    \n",
    "    changes_hidden_layer_1 = np.dot(X_vector.T, first_term_h1) / numOfSample       \n",
    "    changes_hidden_layer_1_bias = np.sum(first_term_h1, axis = 0) / numOfSample \n",
    "\n",
    "\n",
    "    #updates weights and bias at each level\n",
    "    \n",
    "    \n",
    "    #updation at output layer\n",
    "    wo = wo-lr*changes_output\n",
    "    bo = bo-lr*changes_output_bias\n",
    "\n",
    "    #updation at hidden layer 2\n",
    "    wh2 = wh2-lr*changes_hidden_layer_2\n",
    "    bh2 = bh2-lr*changes_hidden_layer_2_bias\n",
    "\n",
    "    #updation at hidden layer 1\n",
    "    wh1 = wh1 - lr*changes_hidden_layer_1\n",
    "    bh1 = bh1 - lr*changes_hidden_layer_1_bias\n",
    "\n"
   ]
  },
  {
   "cell_type": "code",
   "execution_count": 78,
   "id": "b61c0d51",
   "metadata": {},
   "outputs": [],
   "source": [
    "#Train our Model by using Train data \n",
    "\n",
    "def train_MLP(X,Y,TrainingAccuracy,TrainingLoss,TestAccuracy,TestLoss):\n",
    "    \n",
    "\n",
    "    X_batch,Y_batch = makeBatch(X, Y, 32)\n",
    "    batchLength = len(X_batch)\n",
    "\n",
    "    for i in range(epochs):\n",
    "\n",
    "        overall_Loss = 0\n",
    "        overall_accuracy = 0\n",
    "\n",
    "        for itr in range(batchLength):\n",
    "\n",
    "            X_vector, Y_label = X_batch[itr], Y_batch[itr]\n",
    "            numOfSample = X_vector.shape[0] \n",
    "\n",
    "            OutputHidden1,OutputHidden2,OutputOfOutputLayer = forward_propogation(X_vector)\n",
    "\n",
    "            backward_propogation(OutputHidden1,OutputHidden2,OutputOfOutputLayer,X_vector,Y_label)\n",
    "\n",
    "            Loss = lossFunction(OutputOfOutputLayer,Y_label)\n",
    "\n",
    "            Accuracy = accuracy(OutputOfOutputLayer,Y_label)\n",
    "\n",
    "            overall_accuracy += Accuracy * numOfSample\n",
    "            overall_Loss += Loss * numOfSample\n",
    "\n",
    "        eachEpochLoss = overall_Loss/X.shape[0]       \n",
    "        eachEpochAcc = overall_accuracy/X.shape[0] \n",
    "\n",
    "\n",
    "        TrainingAccuracy.append(eachEpochAcc*100)            \n",
    "        TrainingLoss.append(eachEpochLoss) \n",
    "\n",
    "        OutputHidden1,OutputHidden2,OutputOfOutputLayer = forward_propogation(X_test)\n",
    "\n",
    "        testAccuracy = accuracy(OutputOfOutputLayer,Y_test)\n",
    "        testLoss = lossFunction(OutputOfOutputLayer,Y_test)\n",
    "\n",
    "\n",
    "        TestAccuracy.append(testAccuracy*100)\n",
    "        TestLoss.append(testLoss*100)\n",
    "\n",
    "        #Printing status of training after every 10 epochs.\n",
    "        if i == 0 or (i + 1)%10 == 0 or i == 999:       \n",
    "            print(\"Epoch number: {:d}, Training Accuracy : {:.3f}, Training Loss : {:.3f} \".format(i + 1,eachEpochAcc*100, eachEpochLoss))\n",
    "      \n",
    "\n",
    "        \n",
    "#best result at 0.01,32,100\n",
    "\n"
   ]
  },
  {
   "cell_type": "code",
   "execution_count": 79,
   "id": "87103910",
   "metadata": {},
   "outputs": [
    {
     "name": "stdout",
     "output_type": "stream",
     "text": [
      "Traing and Testing Results on Original Data\n",
      "Epoch number: 1, Training Accuracy : 9.760, Training Loss : 2.303 \n",
      "Epoch number: 10, Training Accuracy : 32.488, Training Loss : 1.561 \n",
      "Epoch number: 20, Training Accuracy : 74.012, Training Loss : 0.749 \n",
      "Epoch number: 30, Training Accuracy : 79.652, Training Loss : 0.584 \n",
      "Epoch number: 40, Training Accuracy : 81.708, Training Loss : 0.527 \n",
      "Accuracy on the testing data after traing on Original Data is  67.135\n",
      "Traing and Testing  Results on Augmented Data\n",
      "Epoch number: 1, Training Accuracy : 62.952, Training Loss : 1.054 \n",
      "Epoch number: 10, Training Accuracy : 69.396, Training Loss : 0.863 \n",
      "Epoch number: 20, Training Accuracy : 71.514, Training Loss : 0.802 \n",
      "Epoch number: 30, Training Accuracy : 73.200, Training Loss : 0.758 \n",
      "Epoch number: 40, Training Accuracy : 74.452, Training Loss : 0.723 \n",
      "Accuracy on the testing data after training on Augmented Data is 77.01\n"
     ]
    }
   ],
   "source": [
    "# train data on Original Data\n",
    "\n",
    "print(\"Traing and Testing Results on Original Data\")\n",
    "\n",
    "train_MLP(X[:50000],Y[:50000],TrainingAccuracy_O,TrainingLoss_O,TestAccuracy_O,TestLoss_O)\n",
    "\n",
    "OutputHidden1,OutputHidden2,OutputOfOutputLayer = forward_propogation(X_test)\n",
    "\n",
    "Accuracy = accuracy(OutputOfOutputLayer,Y_test)\n",
    "\n",
    "print(\"Accuracy on the testing data after traing on Original Data is \",Accuracy*100)\n",
    "original_result.append(Accuracy*100)\n",
    "#train data on Augmented Data\n",
    "\n",
    "print(\"Traing and Testing  Results on Augmented Data\")\n",
    "train_MLP(X[50000:],Y[50000:],TrainingAccuracy_A,TrainingLoss_A,TestAccuracy_A,TestLoss_A)\n",
    "\n",
    "\n",
    "OutputHidden1,OutputHidden2,OutputOfOutputLayer = forward_propogation(X_test)\n",
    "\n",
    "Accuracy = accuracy(OutputOfOutputLayer,Y_test)\n",
    "aug_result.append(Accuracy*100)\n",
    "print(\"Accuracy on the testing data after training on Augmented Data is\",Accuracy*100)"
   ]
  },
  {
   "cell_type": "code",
   "execution_count": 55,
   "id": "ca50f3d7",
   "metadata": {},
   "outputs": [],
   "source": [
    "#Testing Phase for our MLP\n"
   ]
  },
  {
   "cell_type": "code",
   "execution_count": 56,
   "id": "a24a997f",
   "metadata": {},
   "outputs": [],
   "source": [
    "#Results after using SVM Classifier KNN Classifier Logistic Regression Classifier Decision Tree Classifier\n"
   ]
  },
  {
   "cell_type": "code",
   "execution_count": 57,
   "id": "d82d928b",
   "metadata": {},
   "outputs": [
    {
     "name": "stdout",
     "output_type": "stream",
     "text": [
      "(100000,)\n",
      "(20000,)\n",
      "Accuracy on Original Data : 77.84\n"
     ]
    },
    {
     "name": "stderr",
     "output_type": "stream",
     "text": [
      "/home/madhavm0706/.local/lib/python3.8/site-packages/sklearn/svm/_base.py:1225: ConvergenceWarning: Liblinear failed to converge, increase the number of iterations.\n",
      "  warnings.warn(\n"
     ]
    }
   ],
   "source": [
    "from sklearn.metrics import accuracy_score\n",
    "\n",
    "\n",
    "Y_data = np.array(Y_data)\n",
    "print(Y_data.shape)\n",
    "Y_test_data = np.array(Y_test_data)\n",
    "print(Y_test_data.shape)\n",
    "\n",
    "#SVM Classifier\n",
    "from sklearn import svm\n",
    "\n",
    "\n",
    "#Predicting on original data\n",
    "classifier1 = svm.LinearSVC(max_iter =1000) \n",
    "classifier1.fit(X[:50000], Y_data[:50000])\n",
    "y_pred = classifier1.predict(X_test)\n",
    "\n",
    "Acc = accuracy_score(Y_test_data, y_pred)\n",
    "original_result.append(Acc*100)\n",
    "print(\"Accuracy on Original Data :\",Acc*100)"
   ]
  },
  {
   "cell_type": "code",
   "execution_count": 58,
   "id": "11c5130f",
   "metadata": {},
   "outputs": [
    {
     "name": "stdout",
     "output_type": "stream",
     "text": [
      "Accuracy on Augmented Data : 75.79\n"
     ]
    },
    {
     "name": "stderr",
     "output_type": "stream",
     "text": [
      "/home/madhavm0706/.local/lib/python3.8/site-packages/sklearn/svm/_base.py:1225: ConvergenceWarning: Liblinear failed to converge, increase the number of iterations.\n",
      "  warnings.warn(\n"
     ]
    }
   ],
   "source": [
    "#Predictiong on augmented data\n",
    "\n",
    "classifier2 = svm.LinearSVC(max_iter =1000) \n",
    "classifier2.fit(X,Y_data)\n",
    "y_pred_aug = classifier2.predict(X_test)\n",
    "\n",
    "Acc = accuracy_score(Y_test_data, y_pred_aug)\n",
    "aug_result.append(Acc*100)\n",
    "print(\"Accuracy on Augmented Data :\",Acc*100)"
   ]
  },
  {
   "cell_type": "code",
   "execution_count": null,
   "id": "0cb92908",
   "metadata": {},
   "outputs": [],
   "source": []
  },
  {
   "cell_type": "code",
   "execution_count": 59,
   "id": "8e8caaea",
   "metadata": {},
   "outputs": [
    {
     "name": "stdout",
     "output_type": "stream",
     "text": [
      "Accuracy on Original Data : 69.38\n",
      "Accuracy on Augmented Data : 68.05\n"
     ]
    }
   ],
   "source": [
    "from sklearn.metrics import accuracy_score\n",
    "\n",
    "#KNN Classifier\n",
    "from sklearn.neighbors import KNeighborsClassifier\n",
    "\n",
    "\n",
    "\n",
    "#Predicting on original data\n",
    "\n",
    "classifier1 = KNeighborsClassifier()\n",
    "classifier1.fit(X[:50000], Y_data[:50000])\n",
    "y_pred = classifier1.predict(X_test)\n",
    "\n",
    "\n",
    "Acc = accuracy_score(Y_test_data, y_pred)\n",
    "original_result.append(Acc*100)\n",
    "\n",
    "print(\"Accuracy on Original Data :\",Acc*100)\n",
    "\n",
    "#Predictiong on augmented data\n",
    "classifier2 = KNeighborsClassifier()\n",
    "classifier2.fit(X,Y_data)\n",
    "y_pred_aug = classifier2.predict(X_test)\n",
    "\n",
    "\n",
    "\n",
    "Acc = accuracy_score(Y_test_data, y_pred_aug)\n",
    "aug_result.append(Acc*100)\n",
    "\n",
    "print(\"Accuracy on Augmented Data :\",Acc*100)\n"
   ]
  },
  {
   "cell_type": "code",
   "execution_count": 60,
   "id": "96dde752",
   "metadata": {},
   "outputs": [
    {
     "name": "stdout",
     "output_type": "stream",
     "text": [
      "Accuracy on Original Data : 78.64999999999999\n",
      "Accuracy on Augmented Data : 78.16\n"
     ]
    }
   ],
   "source": [
    "#Logistic Regression\n",
    "\n",
    "from sklearn.linear_model import LogisticRegression\n",
    "\n",
    "\n",
    "\n",
    "#Predicting on original data\n",
    "classifier1 = LogisticRegression(random_state=42,multi_class='ovr',max_iter =1000)\n",
    "classifier1.fit(X[:50000],Y_data[:50000])\n",
    "y_pred = classifier1.predict(X_test)\n",
    "\n",
    "\n",
    "Acc = accuracy_score(Y_test_data, y_pred)\n",
    "original_result.append(Acc*100)\n",
    "print(\"Accuracy on Original Data :\",Acc*100)\n",
    "\n",
    "#Predicting on augmented data\n",
    "classifier2 = LogisticRegression(random_state=42,multi_class='ovr',max_iter =1000)\n",
    "classifier2.fit(X,Y_data)\n",
    "y_pred_aug = classifier2.predict(X_test)\n",
    "\n",
    "\n",
    "Acc = accuracy_score(Y_test_data, y_pred_aug)\n",
    "aug_result.append(Acc*100)\n",
    "print(\"Accuracy on Augmented Data :\",Acc*100)"
   ]
  },
  {
   "cell_type": "code",
   "execution_count": 61,
   "id": "851cdfc0",
   "metadata": {},
   "outputs": [
    {
     "name": "stdout",
     "output_type": "stream",
     "text": [
      "Accuracy on Original Data : 48.339999999999996\n",
      "Accuracy on Augmented Data : 48.010000000000005\n"
     ]
    }
   ],
   "source": [
    "#Decision Tree Classifier\n",
    "\n",
    "from sklearn.tree import DecisionTreeClassifier\n",
    "\n",
    "\n",
    "#Predicting on original data\n",
    "classifier1 = DecisionTreeClassifier(max_depth =12, random_state = 42)\n",
    "classifier1.fit(X[:50000], Y_data[:50000])\n",
    "y_pred = classifier1.predict(X_test)\n",
    "\n",
    "Acc = accuracy_score(Y_test_data,y_pred)\n",
    "original_result.append(Acc*100)\n",
    "print(\"Accuracy on Original Data :\",Acc*100)\n",
    "\n",
    "#Predicting on augmented data\n",
    "\n",
    "classifier2 = DecisionTreeClassifier(max_depth =12, random_state = 42)\n",
    "classifier2.fit(X, Y_data)\n",
    "y_pred_aug = classifier2.predict(X_test)\n",
    "\n",
    "\n",
    "Acc = accuracy_score(Y_test_data,y_pred_aug)\n",
    "aug_result.append(Acc*100)\n",
    "print(\"Accuracy on Augmented Data :\",Acc*100)\n"
   ]
  },
  {
   "cell_type": "code",
   "execution_count": 70,
   "id": "b8844e4a",
   "metadata": {},
   "outputs": [
    {
     "name": "stdout",
     "output_type": "stream",
     "text": [
      "[67.285, 77.42999999999999, 69.38, 78.64999999999999, 48.339999999999996, 67.595, 77.84, 69.38, 78.64999999999999, 48.339999999999996]\n"
     ]
    },
    {
     "data": {
      "image/png": "[encoded data removed]",
      "text/plain": [
       "<Figure size 432x288 with 1 Axes>"
      ]
     },
     "metadata": {
      "needs_background": "light"
     },
     "output_type": "display_data"
    },
    {
     "name": "stdout",
     "output_type": "stream",
     "text": [
      "[67.285, 77.42999999999999, 69.38, 78.64999999999999, 48.339999999999996, 67.595, 77.84, 69.38, 78.64999999999999, 48.339999999999996]\n",
      "[75.81, 76.52, 68.05, 78.16, 48.010000000000005, 75.64999999999999, 75.79, 68.05, 78.16, 48.010000000000005]\n"
     ]
    }
   ],
   "source": [
    "import matplotlib.pyplot as plt\n",
    "\n",
    "classifier_names = ['MLP','SVM', 'KNN', 'Logistic Regression', 'DTC']\n",
    "\n",
    "\n",
    "plt.plot( classifier_names,original_result, marker=\"o\", markersize=10, markeredgecolor=\"blue\", markerfacecolor=\"white\", label='original data')\n",
    "plt.plot( classifier_names,aug_result, marker=\"o\", markersize=10, markeredgecolor=\"red\", markerfacecolor=\"white\", label='Augmented data')\n",
    "  \n",
    "# Naming the x-axis, y-axis and the whole graph\n",
    "plt.ylabel(\"Accuracy\")\n",
    "plt.xlabel(\"Classifier\")\n",
    "plt.title(\"Classifier Accuracy Comparision\")\n",
    "plt.ylim(10, 100)\n",
    "\n",
    "  \n",
    "# Adding legend, which helps us recognize the curve according to it's color\n",
    "plt.legend()\n",
    "  \n",
    "# To load the display window\n",
    "plt.show()\n",
    "\n"
   ]
  },
  {
   "cell_type": "code",
   "execution_count": 81,
   "id": "c473828a",
   "metadata": {},
   "outputs": [
    {
     "data": {
      "image/png": "[encoded data removed]",
      "text/plain": [
       "<Figure size 432x288 with 1 Axes>"
      ]
     },
     "metadata": {
      "needs_background": "light"
     },
     "output_type": "display_data"
    }
   ],
   "source": [
    "\n",
    "Epochs = []\n",
    "\n",
    "for i in range(40):\n",
    "    Epochs.append(i+1)\n",
    "\n",
    "plt.plot( Epochs,TrainingAccuracy_O, color='r', label='original data')\n",
    "\n",
    "  \n",
    "# Naming the x-axis, y-axis and the whole graph\n",
    "plt.ylabel(\"Accuracy\")\n",
    "plt.xlabel(\"Epochs\")\n",
    "plt.title(\"Accuracy Vs Epochs Graph\")\n",
    "  \n",
    "# Adding legend, which helps us recognize the curve according to it's color\n",
    "plt.legend()\n",
    "  \n",
    "# To load the display window\n",
    "plt.show()"
   ]
  },
  {
   "cell_type": "code",
   "execution_count": 82,
   "id": "9821f809",
   "metadata": {},
   "outputs": [
    {
     "data": {
      "image/png": "[encoded data removed]",
      "text/plain": [
       "<Figure size 432x288 with 1 Axes>"
      ]
     },
     "metadata": {
      "needs_background": "light"
     },
     "output_type": "display_data"
    }
   ],
   "source": [
    "\n",
    "plt.plot(Epochs,TrainingAccuracy_A, color='g', label='Augmented data')\n",
    "\n",
    "# Naming the x-axis, y-axis and the whole graph\n",
    "plt.ylabel(\"Accuracy\")\n",
    "plt.xlabel(\"Epochs\")\n",
    "plt.title(\"Accuracy Vs Epochs Graph\")\n",
    "  \n",
    "# Adding legend, which helps us recognize the curve according to it's color\n",
    "plt.legend()\n",
    "  \n",
    "# To load the display window\n",
    "plt.show()"
   ]
  },
  {
   "cell_type": "code",
   "execution_count": 85,
   "id": "58f5fc6d",
   "metadata": {},
   "outputs": [
    {
     "data": {
      "image/png": "[encoded data removed]",
      "text/plain": [
       "<Figure size 432x288 with 1 Axes>"
      ]
     },
     "metadata": {
      "needs_background": "light"
     },
     "output_type": "display_data"
    }
   ],
   "source": [
    "\n",
    "\n",
    "plt.plot(Epochs,TestAccuracy_A, color='g', label='Augmented data')\n",
    "\n",
    "# Naming the x-axis, y-axis and the whole graph\n",
    "plt.ylabel(\"Accuracy\")\n",
    "plt.xlabel(\"Epochs\")\n",
    "plt.title(\"Accuracy Vs Epochs Graph\")\n",
    "  \n",
    "# Adding legend, which helps us recognize the curve according to it's color\n",
    "plt.legend()\n",
    "  \n",
    "# To load the display window\n",
    "plt.show()"
   ]
  },
  {
   "cell_type": "code",
   "execution_count": 86,
   "id": "c83eb21c",
   "metadata": {},
   "outputs": [
    {
     "data": {
      "image/png": "[encoded data removed]",
      "text/plain": [
       "<Figure size 432x288 with 1 Axes>"
      ]
     },
     "metadata": {
      "needs_background": "light"
     },
     "output_type": "display_data"
    }
   ],
   "source": [
    "\n",
    "plt.plot(Epochs,TestAccuracy_O, color='r', label='Original data')\n",
    "\n",
    "# Naming the x-axis, y-axis and the whole graph\n",
    "plt.ylabel(\"Accuracy\")\n",
    "plt.xlabel(\"Epochs\")\n",
    "plt.title(\"Accuracy Vs Epochs Graph\")\n",
    "  \n",
    "# Adding legend, which helps us recognize the curve according to it's color\n",
    "plt.legend()\n",
    "  \n",
    "# To load the display window\n",
    "plt.show()"
   ]
  },
  {
   "cell_type": "code",
   "execution_count": null,
   "id": "17db69fc",
   "metadata": {},
   "outputs": [],
   "source": []
  }
 ],
 "metadata": {
  "kernelspec": {
   "display_name": "Python 3 (ipykernel)",
   "language": "python",
   "name": "python3"
  },
  "language_info": {
   "codemirror_mode": {
    "name": "ipython",
    "version": 3
   },
   "file_extension": ".py",
   "mimetype": "text/x-python",
   "name": "python",
   "nbconvert_exporter": "python",
   "pygments_lexer": "ipython3",
   "version": "3.8.10"
  }
 },
 "nbformat": 4,
 "nbformat_minor": 5
}
